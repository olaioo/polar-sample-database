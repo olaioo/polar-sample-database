{
  "nbformat": 4,
  "nbformat_minor": 0,
  "metadata": {
    "colab": {
      "name": "HackatonIESB2021-2.ipynb",
      "provenance": [],
      "collapsed_sections": [],
      "authorship_tag": "ABX9TyOMpgmOQMOk+h1OYTXPnxLP",
      "include_colab_link": true
    },
    "kernelspec": {
      "display_name": "Python 3",
      "name": "python3"
    },
    "language_info": {
      "name": "python"
    }
  },
  "cells": [
    {
      "cell_type": "markdown",
      "metadata": {
        "id": "view-in-github",
        "colab_type": "text"
      },
      "source": [
        "<a href=\"https://colab.research.google.com/github/olaioo/polar-sample-database/blob/master/solution/HackatonIESB2021_2.ipynb\" target=\"_parent\"><img src=\"https://colab.research.google.com/assets/colab-badge.svg\" alt=\"Open In Colab\"/></a>"
      ]
    },
    {
      "cell_type": "markdown",
      "metadata": {
        "id": "qg5K-S_ewW-K"
      },
      "source": [
        "## Hackaton IESB 2021.2"
      ]
    },
    {
      "cell_type": "markdown",
      "metadata": {
        "id": "pMbaArZswkSf"
      },
      "source": [
        "## recuperando os dados do repositório\n"
      ]
    },
    {
      "cell_type": "code",
      "metadata": {
        "colab": {
          "base_uri": "https://localhost:8080/"
        },
        "id": "fTbzmBzswV47",
        "outputId": "e49abb11-5ab7-4d2e-cae1-ea691ff7b84a"
      },
      "source": [
        "!git clone https://github.com/mendelson/polar-sample-database.git"
      ],
      "execution_count": 99,
      "outputs": [
        {
          "output_type": "stream",
          "name": "stdout",
          "text": [
            "fatal: destination path 'polar-sample-database' already exists and is not an empty directory.\n"
          ]
        }
      ]
    },
    {
      "cell_type": "code",
      "metadata": {
        "colab": {
          "base_uri": "https://localhost:8080/"
        },
        "id": "UH1A-nOrxFPl",
        "outputId": "2c88533f-19d5-4865-9627-a099bad95282"
      },
      "source": [
        "!ls"
      ],
      "execution_count": 100,
      "outputs": [
        {
          "output_type": "stream",
          "name": "stdout",
          "text": [
            "polar-sample-database  sample_data\n"
          ]
        }
      ]
    },
    {
      "cell_type": "markdown",
      "metadata": {
        "id": "ABRb_ragxN9G"
      },
      "source": [
        "## Imports necessários\n"
      ]
    },
    {
      "cell_type": "code",
      "metadata": {
        "id": "LQvgoAd5xWp-"
      },
      "source": [
        "from sklearn import linear_model\n",
        "from sklearn.model_selection import train_test_split\n",
        "import json\n",
        "import numpy as np\n",
        "from datetime import datetime\n",
        "import pandas as pd\n",
        "import plotly.express as px"
      ],
      "execution_count": 101,
      "outputs": []
    },
    {
      "cell_type": "markdown",
      "metadata": {
        "id": "Fg1ZxlxyxaW7"
      },
      "source": [
        "## Funções auxiliares\n"
      ]
    },
    {
      "cell_type": "code",
      "metadata": {
        "id": "Lf1nC-BjJ5rl"
      },
      "source": [
        "def readFile(url):\n",
        "  with open(url, 'r') as myfile:\n",
        "      data=myfile.read()\n",
        "  return data\n",
        "\n",
        "def formatExcludingUTC(str):\n",
        "  return str[:str.rindex('-')]\n",
        "\n",
        "def getDateFromStr(str, pattern):\n",
        "  return datetime.strptime(str, pattern).replace(hour=0, minute=0, second=0, microsecond=0)\n",
        "\n",
        "def collect(array, field, start, end):\n",
        "  l = []\n",
        "  for e in array:\n",
        "    if (getDateFromStr(formatExcludingUTC(e['datetimeStr']), '%Y-%m-%dT%H:%M:%S') >= getDateFromStr(start, '%Y-%m-%dT%H:%M:%S.%f') and getDateFromStr(formatExcludingUTC(e['datetimeStr']), '%Y-%m-%dT%H:%M:%S') <= getDateFromStr(end, '%Y-%m-%dT%H:%M:%S.%f')) :\n",
        "      l.append(e[field] if e[field] else 0)\n",
        "  return l"
      ],
      "execution_count": 102,
      "outputs": []
    },
    {
      "cell_type": "markdown",
      "metadata": {
        "id": "wYETvkpwzQ8j"
      },
      "source": [
        "## Histograma sobre os dados"
      ]
    },
    {
      "cell_type": "code",
      "metadata": {
        "id": "uvOhWNnqzTnF"
      },
      "source": [
        "#dados gerais\n",
        "\n",
        "filesList = !ls polar-sample-database/dataset/\n",
        "\n",
        "stats = []\n",
        "\n",
        "filtered = []\n",
        "\n",
        "for f in filesList:\n",
        "  dataExercises = json.loads(readFile('polar-sample-database/dataset/'+f))\n",
        "  filter = True\n",
        "  stats.append('TOTAL')\n",
        "  if 'physicalInformationSnapshot' in dataExercises:\n",
        "    stats.append('PHYSICAL_INFO')\n",
        "  else:\n",
        "    filter = False\n",
        "\n",
        "  if 'kiloCalories' in dataExercises:\n",
        "    stats.append('CALORIES_INFO')\n",
        "  else:\n",
        "    filter = False\n",
        "\n",
        "\n",
        "  weatherFiles = !ls polar-sample-database/weather\\ dataset | grep {dataExercises['startTime'][:dataExercises['startTime'].index('T')]} | grep .json\n",
        "  if len(weatherFiles) > 0:\n",
        "    stats.append(\"WEATHER_INFO\")\n",
        "  else:\n",
        "    filter = False\n",
        "\n",
        "\n",
        "  if filter:\n",
        "    stats.append(\"FILTERED\")\n",
        "    filtered.append(dataExercises['exercises'][0]['sport'])\n"
      ],
      "execution_count": 103,
      "outputs": []
    },
    {
      "cell_type": "code",
      "metadata": {
        "colab": {
          "base_uri": "https://localhost:8080/",
          "height": 542
        },
        "id": "5Yz7H2Aq90Qm",
        "outputId": "85df299b-e6c8-4a70-8377-7172253d9acd"
      },
      "source": [
        "df = pd.DataFrame(stats)\n",
        "\n",
        "fig = px.histogram(df, x=0, title='Visão geral dos dados', labels={'Visão geral dos dados'})\n",
        "fig.show()"
      ],
      "execution_count": 104,
      "outputs": [
        {
          "output_type": "display_data",
          "data": {
            "text/html": [
              "<html>\n",
              "<head><meta charset=\"utf-8\" /></head>\n",
              "<body>\n",
              "    <div>\n",
              "            <script src=\"https://cdnjs.cloudflare.com/ajax/libs/mathjax/2.7.5/MathJax.js?config=TeX-AMS-MML_SVG\"></script><script type=\"text/javascript\">if (window.MathJax) {MathJax.Hub.Config({SVG: {font: \"STIX-Web\"}});}</script>\n",
              "                <script type=\"text/javascript\">window.PlotlyConfig = {MathJaxConfig: 'local'};</script>\n",
              "        <script src=\"https://cdn.plot.ly/plotly-latest.min.js\"></script>    \n",
              "            <div id=\"65ad55f2-5e61-4e14-9f9b-f45d450903c6\" class=\"plotly-graph-div\" style=\"height:525px; width:100%;\"></div>\n",
              "            <script type=\"text/javascript\">\n",
              "                \n",
              "                    window.PLOTLYENV=window.PLOTLYENV || {};\n",
              "                    \n",
              "                if (document.getElementById(\"65ad55f2-5e61-4e14-9f9b-f45d450903c6\")) {\n",
              "                    Plotly.newPlot(\n",
              "                        '65ad55f2-5e61-4e14-9f9b-f45d450903c6',\n",
              "                        [{\"alignmentgroup\": \"True\", \"bingroup\": \"x\", \"hoverlabel\": {\"namelength\": 0}, \"hovertemplate\": \"0=%{x}<br>count=%{y}\", \"legendgroup\": \"\", \"marker\": {\"color\": \"#636efa\"}, \"name\": \"\", \"offsetgroup\": \"\", \"orientation\": \"v\", \"showlegend\": false, \"type\": \"histogram\", \"x\": [\"TOTAL\", \"WEATHER_INFO\", \"TOTAL\", \"PHYSICAL_INFO\", \"CALORIES_INFO\", \"WEATHER_INFO\", \"FILTERED\", \"TOTAL\", \"PHYSICAL_INFO\", \"CALORIES_INFO\", \"TOTAL\", \"PHYSICAL_INFO\", \"CALORIES_INFO\", \"TOTAL\", \"PHYSICAL_INFO\", \"CALORIES_INFO\", \"WEATHER_INFO\", \"FILTERED\", \"TOTAL\", \"PHYSICAL_INFO\", \"CALORIES_INFO\", \"TOTAL\", \"PHYSICAL_INFO\", \"CALORIES_INFO\", \"TOTAL\", \"PHYSICAL_INFO\", \"CALORIES_INFO\", \"TOTAL\", \"PHYSICAL_INFO\", \"CALORIES_INFO\", \"TOTAL\", \"PHYSICAL_INFO\", \"CALORIES_INFO\", \"WEATHER_INFO\", \"FILTERED\", \"TOTAL\", \"PHYSICAL_INFO\", \"CALORIES_INFO\", \"TOTAL\", \"PHYSICAL_INFO\", \"CALORIES_INFO\", \"TOTAL\", \"PHYSICAL_INFO\", \"CALORIES_INFO\", \"WEATHER_INFO\", \"FILTERED\", \"TOTAL\", \"PHYSICAL_INFO\", \"CALORIES_INFO\", \"TOTAL\", \"PHYSICAL_INFO\", \"CALORIES_INFO\", \"TOTAL\", \"PHYSICAL_INFO\", \"CALORIES_INFO\", \"TOTAL\", \"PHYSICAL_INFO\", \"CALORIES_INFO\", \"TOTAL\", \"PHYSICAL_INFO\", \"CALORIES_INFO\", \"TOTAL\", \"PHYSICAL_INFO\", \"CALORIES_INFO\", \"TOTAL\", \"PHYSICAL_INFO\", \"CALORIES_INFO\", \"TOTAL\", \"PHYSICAL_INFO\", \"CALORIES_INFO\", \"TOTAL\", \"PHYSICAL_INFO\", \"CALORIES_INFO\", \"TOTAL\", \"PHYSICAL_INFO\", \"CALORIES_INFO\", \"TOTAL\", \"PHYSICAL_INFO\", \"CALORIES_INFO\", \"TOTAL\", \"PHYSICAL_INFO\", \"CALORIES_INFO\", \"TOTAL\", \"PHYSICAL_INFO\", \"CALORIES_INFO\", \"TOTAL\", \"TOTAL\", \"PHYSICAL_INFO\", \"CALORIES_INFO\", \"TOTAL\", \"PHYSICAL_INFO\", \"CALORIES_INFO\", \"TOTAL\", \"PHYSICAL_INFO\", \"CALORIES_INFO\", \"TOTAL\", \"PHYSICAL_INFO\", \"CALORIES_INFO\", \"TOTAL\", \"PHYSICAL_INFO\", \"CALORIES_INFO\", \"TOTAL\", \"PHYSICAL_INFO\", \"CALORIES_INFO\", \"TOTAL\", \"PHYSICAL_INFO\", \"CALORIES_INFO\", \"TOTAL\", \"PHYSICAL_INFO\", \"CALORIES_INFO\", \"TOTAL\", \"PHYSICAL_INFO\", \"CALORIES_INFO\", \"TOTAL\", \"PHYSICAL_INFO\", \"CALORIES_INFO\", \"TOTAL\", \"PHYSICAL_INFO\", \"CALORIES_INFO\", \"WEATHER_INFO\", \"FILTERED\", \"TOTAL\", \"PHYSICAL_INFO\", \"CALORIES_INFO\", \"TOTAL\", \"TOTAL\", \"PHYSICAL_INFO\", \"CALORIES_INFO\", \"TOTAL\", \"PHYSICAL_INFO\", \"CALORIES_INFO\", \"TOTAL\", \"PHYSICAL_INFO\", \"CALORIES_INFO\", \"TOTAL\", \"PHYSICAL_INFO\", \"CALORIES_INFO\", \"WEATHER_INFO\", \"FILTERED\", \"TOTAL\", \"PHYSICAL_INFO\", \"CALORIES_INFO\", \"TOTAL\", \"PHYSICAL_INFO\", \"CALORIES_INFO\", \"TOTAL\", \"PHYSICAL_INFO\", \"CALORIES_INFO\", \"TOTAL\", \"PHYSICAL_INFO\", \"CALORIES_INFO\", \"TOTAL\", \"PHYSICAL_INFO\", \"CALORIES_INFO\", \"TOTAL\", \"PHYSICAL_INFO\", \"CALORIES_INFO\", \"TOTAL\", \"PHYSICAL_INFO\", \"CALORIES_INFO\", \"TOTAL\", \"PHYSICAL_INFO\", \"CALORIES_INFO\", \"WEATHER_INFO\", \"FILTERED\", \"TOTAL\", \"PHYSICAL_INFO\", \"CALORIES_INFO\", \"TOTAL\", \"PHYSICAL_INFO\", \"CALORIES_INFO\", \"TOTAL\", \"PHYSICAL_INFO\", \"CALORIES_INFO\", \"TOTAL\", \"PHYSICAL_INFO\", \"CALORIES_INFO\", \"TOTAL\", \"PHYSICAL_INFO\", \"CALORIES_INFO\", \"TOTAL\", \"PHYSICAL_INFO\", \"CALORIES_INFO\", \"WEATHER_INFO\", \"FILTERED\", \"TOTAL\", \"PHYSICAL_INFO\", \"CALORIES_INFO\", \"TOTAL\", \"PHYSICAL_INFO\", \"CALORIES_INFO\", \"TOTAL\", \"PHYSICAL_INFO\", \"CALORIES_INFO\", \"WEATHER_INFO\", \"FILTERED\", \"TOTAL\", \"PHYSICAL_INFO\", \"CALORIES_INFO\", \"TOTAL\", \"PHYSICAL_INFO\", \"CALORIES_INFO\", \"TOTAL\", \"PHYSICAL_INFO\", \"CALORIES_INFO\", \"TOTAL\", \"PHYSICAL_INFO\", \"CALORIES_INFO\", \"WEATHER_INFO\", \"FILTERED\", \"TOTAL\", \"PHYSICAL_INFO\", \"CALORIES_INFO\", \"WEATHER_INFO\", \"FILTERED\", \"TOTAL\", \"PHYSICAL_INFO\", \"CALORIES_INFO\", \"TOTAL\", \"PHYSICAL_INFO\", \"CALORIES_INFO\", \"TOTAL\", \"PHYSICAL_INFO\", \"CALORIES_INFO\", \"TOTAL\", \"PHYSICAL_INFO\", \"CALORIES_INFO\", \"TOTAL\", \"PHYSICAL_INFO\", \"CALORIES_INFO\", \"TOTAL\", \"PHYSICAL_INFO\", \"CALORIES_INFO\", \"TOTAL\", \"PHYSICAL_INFO\", \"CALORIES_INFO\", \"TOTAL\", \"PHYSICAL_INFO\", \"CALORIES_INFO\", \"WEATHER_INFO\", \"FILTERED\", \"TOTAL\", \"PHYSICAL_INFO\", \"CALORIES_INFO\", \"WEATHER_INFO\", \"FILTERED\", \"TOTAL\", \"PHYSICAL_INFO\", \"CALORIES_INFO\", \"WEATHER_INFO\", \"FILTERED\", \"TOTAL\", \"PHYSICAL_INFO\", \"CALORIES_INFO\", \"WEATHER_INFO\", \"FILTERED\", \"TOTAL\", \"PHYSICAL_INFO\", \"CALORIES_INFO\", \"TOTAL\", \"PHYSICAL_INFO\", \"CALORIES_INFO\", \"TOTAL\", \"PHYSICAL_INFO\", \"CALORIES_INFO\", \"WEATHER_INFO\", \"FILTERED\", \"TOTAL\", \"PHYSICAL_INFO\", \"CALORIES_INFO\", \"TOTAL\", \"PHYSICAL_INFO\", \"CALORIES_INFO\", \"WEATHER_INFO\", \"FILTERED\", \"TOTAL\", \"PHYSICAL_INFO\", \"CALORIES_INFO\", \"WEATHER_INFO\", \"FILTERED\", \"TOTAL\", \"PHYSICAL_INFO\", \"CALORIES_INFO\", \"TOTAL\", \"PHYSICAL_INFO\", \"CALORIES_INFO\", \"TOTAL\", \"PHYSICAL_INFO\", \"CALORIES_INFO\", \"TOTAL\", \"PHYSICAL_INFO\", \"CALORIES_INFO\", \"TOTAL\", \"PHYSICAL_INFO\", \"CALORIES_INFO\", \"TOTAL\", \"PHYSICAL_INFO\", \"CALORIES_INFO\", \"WEATHER_INFO\", \"FILTERED\", \"TOTAL\", \"PHYSICAL_INFO\", \"CALORIES_INFO\", \"TOTAL\", \"PHYSICAL_INFO\", \"CALORIES_INFO\", \"TOTAL\", \"PHYSICAL_INFO\", \"CALORIES_INFO\", \"TOTAL\", \"PHYSICAL_INFO\", \"CALORIES_INFO\", \"TOTAL\", \"PHYSICAL_INFO\", \"CALORIES_INFO\", \"TOTAL\", \"PHYSICAL_INFO\", \"CALORIES_INFO\", \"WEATHER_INFO\", \"FILTERED\", \"TOTAL\", \"PHYSICAL_INFO\", \"CALORIES_INFO\", \"TOTAL\", \"PHYSICAL_INFO\", \"CALORIES_INFO\", \"TOTAL\", \"PHYSICAL_INFO\", \"CALORIES_INFO\", \"TOTAL\", \"PHYSICAL_INFO\", \"CALORIES_INFO\", \"TOTAL\", \"PHYSICAL_INFO\", \"CALORIES_INFO\", \"WEATHER_INFO\", \"FILTERED\", \"TOTAL\", \"PHYSICAL_INFO\", \"CALORIES_INFO\", \"TOTAL\", \"PHYSICAL_INFO\", \"CALORIES_INFO\", \"TOTAL\", \"PHYSICAL_INFO\", \"CALORIES_INFO\", \"WEATHER_INFO\", \"FILTERED\", \"TOTAL\", \"PHYSICAL_INFO\", \"CALORIES_INFO\", \"WEATHER_INFO\", \"FILTERED\", \"TOTAL\", \"PHYSICAL_INFO\", \"CALORIES_INFO\", \"TOTAL\", \"PHYSICAL_INFO\", \"CALORIES_INFO\", \"TOTAL\", \"PHYSICAL_INFO\", \"CALORIES_INFO\", \"TOTAL\", \"PHYSICAL_INFO\", \"CALORIES_INFO\", \"WEATHER_INFO\", \"FILTERED\", \"TOTAL\", \"PHYSICAL_INFO\", \"CALORIES_INFO\", \"TOTAL\", \"PHYSICAL_INFO\", \"CALORIES_INFO\", \"TOTAL\", \"PHYSICAL_INFO\", \"CALORIES_INFO\", \"WEATHER_INFO\", \"FILTERED\", \"TOTAL\", \"PHYSICAL_INFO\", \"CALORIES_INFO\", \"TOTAL\", \"TOTAL\", \"PHYSICAL_INFO\", \"CALORIES_INFO\", \"TOTAL\", \"PHYSICAL_INFO\", \"CALORIES_INFO\", \"TOTAL\", \"PHYSICAL_INFO\", \"CALORIES_INFO\", \"WEATHER_INFO\", \"FILTERED\", \"TOTAL\", \"PHYSICAL_INFO\", \"CALORIES_INFO\", \"TOTAL\", \"PHYSICAL_INFO\", \"WEATHER_INFO\", \"TOTAL\", \"PHYSICAL_INFO\", \"CALORIES_INFO\", \"TOTAL\", \"PHYSICAL_INFO\", \"CALORIES_INFO\", \"TOTAL\", \"PHYSICAL_INFO\", \"CALORIES_INFO\", \"WEATHER_INFO\", \"FILTERED\", \"TOTAL\", \"PHYSICAL_INFO\", \"WEATHER_INFO\", \"TOTAL\", \"PHYSICAL_INFO\", \"CALORIES_INFO\", \"WEATHER_INFO\", \"FILTERED\", \"TOTAL\", \"PHYSICAL_INFO\", \"CALORIES_INFO\", \"TOTAL\", \"PHYSICAL_INFO\", \"CALORIES_INFO\", \"WEATHER_INFO\", \"FILTERED\", \"TOTAL\", \"PHYSICAL_INFO\", \"CALORIES_INFO\", \"WEATHER_INFO\", \"FILTERED\", \"TOTAL\", \"PHYSICAL_INFO\", \"CALORIES_INFO\", \"WEATHER_INFO\", \"FILTERED\", \"TOTAL\", \"PHYSICAL_INFO\", \"CALORIES_INFO\", \"TOTAL\", \"PHYSICAL_INFO\", \"CALORIES_INFO\", \"TOTAL\", \"PHYSICAL_INFO\", \"CALORIES_INFO\", \"TOTAL\", \"PHYSICAL_INFO\", \"CALORIES_INFO\", \"WEATHER_INFO\", \"FILTERED\", \"TOTAL\", \"PHYSICAL_INFO\", \"CALORIES_INFO\", \"WEATHER_INFO\", \"FILTERED\", \"TOTAL\", \"PHYSICAL_INFO\", \"CALORIES_INFO\", \"TOTAL\", \"PHYSICAL_INFO\", \"CALORIES_INFO\", \"TOTAL\", \"PHYSICAL_INFO\", \"CALORIES_INFO\", \"WEATHER_INFO\", \"FILTERED\", \"TOTAL\", \"PHYSICAL_INFO\", \"CALORIES_INFO\", \"TOTAL\", \"PHYSICAL_INFO\", \"CALORIES_INFO\", \"TOTAL\", \"PHYSICAL_INFO\", \"CALORIES_INFO\", \"TOTAL\", \"PHYSICAL_INFO\", \"CALORIES_INFO\", \"TOTAL\", \"PHYSICAL_INFO\", \"CALORIES_INFO\", \"TOTAL\", \"PHYSICAL_INFO\", \"CALORIES_INFO\", \"TOTAL\", \"PHYSICAL_INFO\", \"CALORIES_INFO\", \"WEATHER_INFO\", \"FILTERED\", \"TOTAL\", \"PHYSICAL_INFO\", \"WEATHER_INFO\", \"TOTAL\", \"PHYSICAL_INFO\", \"WEATHER_INFO\", \"TOTAL\", \"PHYSICAL_INFO\", \"CALORIES_INFO\", \"TOTAL\", \"PHYSICAL_INFO\", \"CALORIES_INFO\", \"TOTAL\", \"PHYSICAL_INFO\", \"CALORIES_INFO\", \"TOTAL\", \"PHYSICAL_INFO\", \"CALORIES_INFO\", \"WEATHER_INFO\", \"FILTERED\", \"TOTAL\", \"PHYSICAL_INFO\", \"CALORIES_INFO\", \"TOTAL\", \"PHYSICAL_INFO\", \"CALORIES_INFO\", \"TOTAL\", \"PHYSICAL_INFO\", \"CALORIES_INFO\", \"TOTAL\"], \"xaxis\": \"x\", \"yaxis\": \"y\"}],\n",
              "                        {\"barmode\": \"relative\", \"legend\": {\"tracegroupgap\": 0}, \"template\": {\"data\": {\"bar\": [{\"error_x\": {\"color\": \"#2a3f5f\"}, \"error_y\": {\"color\": \"#2a3f5f\"}, \"marker\": {\"line\": {\"color\": \"#E5ECF6\", \"width\": 0.5}}, \"type\": \"bar\"}], \"barpolar\": [{\"marker\": {\"line\": {\"color\": \"#E5ECF6\", \"width\": 0.5}}, \"type\": \"barpolar\"}], \"carpet\": [{\"aaxis\": {\"endlinecolor\": \"#2a3f5f\", \"gridcolor\": \"white\", \"linecolor\": \"white\", \"minorgridcolor\": \"white\", \"startlinecolor\": \"#2a3f5f\"}, \"baxis\": {\"endlinecolor\": \"#2a3f5f\", \"gridcolor\": \"white\", \"linecolor\": \"white\", \"minorgridcolor\": \"white\", \"startlinecolor\": \"#2a3f5f\"}, \"type\": \"carpet\"}], \"choropleth\": [{\"colorbar\": {\"outlinewidth\": 0, \"ticks\": \"\"}, \"type\": \"choropleth\"}], \"contour\": [{\"colorbar\": {\"outlinewidth\": 0, \"ticks\": \"\"}, \"colorscale\": [[0.0, \"#0d0887\"], [0.1111111111111111, \"#46039f\"], [0.2222222222222222, \"#7201a8\"], [0.3333333333333333, \"#9c179e\"], [0.4444444444444444, \"#bd3786\"], [0.5555555555555556, \"#d8576b\"], [0.6666666666666666, \"#ed7953\"], [0.7777777777777778, \"#fb9f3a\"], [0.8888888888888888, \"#fdca26\"], [1.0, \"#f0f921\"]], \"type\": \"contour\"}], \"contourcarpet\": [{\"colorbar\": {\"outlinewidth\": 0, \"ticks\": \"\"}, \"type\": \"contourcarpet\"}], \"heatmap\": [{\"colorbar\": {\"outlinewidth\": 0, \"ticks\": \"\"}, \"colorscale\": [[0.0, \"#0d0887\"], [0.1111111111111111, \"#46039f\"], [0.2222222222222222, \"#7201a8\"], [0.3333333333333333, \"#9c179e\"], [0.4444444444444444, \"#bd3786\"], [0.5555555555555556, \"#d8576b\"], [0.6666666666666666, \"#ed7953\"], [0.7777777777777778, \"#fb9f3a\"], [0.8888888888888888, \"#fdca26\"], [1.0, \"#f0f921\"]], \"type\": \"heatmap\"}], \"heatmapgl\": [{\"colorbar\": {\"outlinewidth\": 0, \"ticks\": \"\"}, \"colorscale\": [[0.0, \"#0d0887\"], [0.1111111111111111, \"#46039f\"], [0.2222222222222222, \"#7201a8\"], [0.3333333333333333, \"#9c179e\"], [0.4444444444444444, \"#bd3786\"], [0.5555555555555556, \"#d8576b\"], [0.6666666666666666, \"#ed7953\"], [0.7777777777777778, \"#fb9f3a\"], [0.8888888888888888, \"#fdca26\"], [1.0, \"#f0f921\"]], \"type\": \"heatmapgl\"}], \"histogram\": [{\"marker\": {\"colorbar\": {\"outlinewidth\": 0, \"ticks\": \"\"}}, \"type\": \"histogram\"}], \"histogram2d\": [{\"colorbar\": {\"outlinewidth\": 0, \"ticks\": \"\"}, \"colorscale\": [[0.0, \"#0d0887\"], [0.1111111111111111, \"#46039f\"], [0.2222222222222222, \"#7201a8\"], [0.3333333333333333, \"#9c179e\"], [0.4444444444444444, \"#bd3786\"], [0.5555555555555556, \"#d8576b\"], [0.6666666666666666, \"#ed7953\"], [0.7777777777777778, \"#fb9f3a\"], [0.8888888888888888, \"#fdca26\"], [1.0, \"#f0f921\"]], \"type\": \"histogram2d\"}], \"histogram2dcontour\": [{\"colorbar\": {\"outlinewidth\": 0, \"ticks\": \"\"}, \"colorscale\": [[0.0, \"#0d0887\"], [0.1111111111111111, \"#46039f\"], [0.2222222222222222, \"#7201a8\"], [0.3333333333333333, \"#9c179e\"], [0.4444444444444444, \"#bd3786\"], [0.5555555555555556, \"#d8576b\"], [0.6666666666666666, \"#ed7953\"], [0.7777777777777778, \"#fb9f3a\"], [0.8888888888888888, \"#fdca26\"], [1.0, \"#f0f921\"]], \"type\": \"histogram2dcontour\"}], \"mesh3d\": [{\"colorbar\": {\"outlinewidth\": 0, \"ticks\": \"\"}, \"type\": \"mesh3d\"}], \"parcoords\": [{\"line\": {\"colorbar\": {\"outlinewidth\": 0, \"ticks\": \"\"}}, \"type\": \"parcoords\"}], \"pie\": [{\"automargin\": true, \"type\": \"pie\"}], \"scatter\": [{\"marker\": {\"colorbar\": {\"outlinewidth\": 0, \"ticks\": \"\"}}, \"type\": \"scatter\"}], \"scatter3d\": [{\"line\": {\"colorbar\": {\"outlinewidth\": 0, \"ticks\": \"\"}}, \"marker\": {\"colorbar\": {\"outlinewidth\": 0, \"ticks\": \"\"}}, \"type\": \"scatter3d\"}], \"scattercarpet\": [{\"marker\": {\"colorbar\": {\"outlinewidth\": 0, \"ticks\": \"\"}}, \"type\": \"scattercarpet\"}], \"scattergeo\": [{\"marker\": {\"colorbar\": {\"outlinewidth\": 0, \"ticks\": \"\"}}, \"type\": \"scattergeo\"}], \"scattergl\": [{\"marker\": {\"colorbar\": {\"outlinewidth\": 0, \"ticks\": \"\"}}, \"type\": \"scattergl\"}], \"scattermapbox\": [{\"marker\": {\"colorbar\": {\"outlinewidth\": 0, \"ticks\": \"\"}}, \"type\": \"scattermapbox\"}], \"scatterpolar\": [{\"marker\": {\"colorbar\": {\"outlinewidth\": 0, \"ticks\": \"\"}}, \"type\": \"scatterpolar\"}], \"scatterpolargl\": [{\"marker\": {\"colorbar\": {\"outlinewidth\": 0, \"ticks\": \"\"}}, \"type\": \"scatterpolargl\"}], \"scatterternary\": [{\"marker\": {\"colorbar\": {\"outlinewidth\": 0, \"ticks\": \"\"}}, \"type\": \"scatterternary\"}], \"surface\": [{\"colorbar\": {\"outlinewidth\": 0, \"ticks\": \"\"}, \"colorscale\": [[0.0, \"#0d0887\"], [0.1111111111111111, \"#46039f\"], [0.2222222222222222, \"#7201a8\"], [0.3333333333333333, \"#9c179e\"], [0.4444444444444444, \"#bd3786\"], [0.5555555555555556, \"#d8576b\"], [0.6666666666666666, \"#ed7953\"], [0.7777777777777778, \"#fb9f3a\"], [0.8888888888888888, \"#fdca26\"], [1.0, \"#f0f921\"]], \"type\": \"surface\"}], \"table\": [{\"cells\": {\"fill\": {\"color\": \"#EBF0F8\"}, \"line\": {\"color\": \"white\"}}, \"header\": {\"fill\": {\"color\": \"#C8D4E3\"}, \"line\": {\"color\": \"white\"}}, \"type\": \"table\"}]}, \"layout\": {\"annotationdefaults\": {\"arrowcolor\": \"#2a3f5f\", \"arrowhead\": 0, \"arrowwidth\": 1}, \"coloraxis\": {\"colorbar\": {\"outlinewidth\": 0, \"ticks\": \"\"}}, \"colorscale\": {\"diverging\": [[0, \"#8e0152\"], [0.1, \"#c51b7d\"], [0.2, \"#de77ae\"], [0.3, \"#f1b6da\"], [0.4, \"#fde0ef\"], [0.5, \"#f7f7f7\"], [0.6, \"#e6f5d0\"], [0.7, \"#b8e186\"], [0.8, \"#7fbc41\"], [0.9, \"#4d9221\"], [1, \"#276419\"]], \"sequential\": [[0.0, \"#0d0887\"], [0.1111111111111111, \"#46039f\"], [0.2222222222222222, \"#7201a8\"], [0.3333333333333333, \"#9c179e\"], [0.4444444444444444, \"#bd3786\"], [0.5555555555555556, \"#d8576b\"], [0.6666666666666666, \"#ed7953\"], [0.7777777777777778, \"#fb9f3a\"], [0.8888888888888888, \"#fdca26\"], [1.0, \"#f0f921\"]], \"sequentialminus\": [[0.0, \"#0d0887\"], [0.1111111111111111, \"#46039f\"], [0.2222222222222222, \"#7201a8\"], [0.3333333333333333, \"#9c179e\"], [0.4444444444444444, \"#bd3786\"], [0.5555555555555556, \"#d8576b\"], [0.6666666666666666, \"#ed7953\"], [0.7777777777777778, \"#fb9f3a\"], [0.8888888888888888, \"#fdca26\"], [1.0, \"#f0f921\"]]}, \"colorway\": [\"#636efa\", \"#EF553B\", \"#00cc96\", \"#ab63fa\", \"#FFA15A\", \"#19d3f3\", \"#FF6692\", \"#B6E880\", \"#FF97FF\", \"#FECB52\"], \"font\": {\"color\": \"#2a3f5f\"}, \"geo\": {\"bgcolor\": \"white\", \"lakecolor\": \"white\", \"landcolor\": \"#E5ECF6\", \"showlakes\": true, \"showland\": true, \"subunitcolor\": \"white\"}, \"hoverlabel\": {\"align\": \"left\"}, \"hovermode\": \"closest\", \"mapbox\": {\"style\": \"light\"}, \"paper_bgcolor\": \"white\", \"plot_bgcolor\": \"#E5ECF6\", \"polar\": {\"angularaxis\": {\"gridcolor\": \"white\", \"linecolor\": \"white\", \"ticks\": \"\"}, \"bgcolor\": \"#E5ECF6\", \"radialaxis\": {\"gridcolor\": \"white\", \"linecolor\": \"white\", \"ticks\": \"\"}}, \"scene\": {\"xaxis\": {\"backgroundcolor\": \"#E5ECF6\", \"gridcolor\": \"white\", \"gridwidth\": 2, \"linecolor\": \"white\", \"showbackground\": true, \"ticks\": \"\", \"zerolinecolor\": \"white\"}, \"yaxis\": {\"backgroundcolor\": \"#E5ECF6\", \"gridcolor\": \"white\", \"gridwidth\": 2, \"linecolor\": \"white\", \"showbackground\": true, \"ticks\": \"\", \"zerolinecolor\": \"white\"}, \"zaxis\": {\"backgroundcolor\": \"#E5ECF6\", \"gridcolor\": \"white\", \"gridwidth\": 2, \"linecolor\": \"white\", \"showbackground\": true, \"ticks\": \"\", \"zerolinecolor\": \"white\"}}, \"shapedefaults\": {\"line\": {\"color\": \"#2a3f5f\"}}, \"ternary\": {\"aaxis\": {\"gridcolor\": \"white\", \"linecolor\": \"white\", \"ticks\": \"\"}, \"baxis\": {\"gridcolor\": \"white\", \"linecolor\": \"white\", \"ticks\": \"\"}, \"bgcolor\": \"#E5ECF6\", \"caxis\": {\"gridcolor\": \"white\", \"linecolor\": \"white\", \"ticks\": \"\"}}, \"title\": {\"x\": 0.05}, \"xaxis\": {\"automargin\": true, \"gridcolor\": \"white\", \"linecolor\": \"white\", \"ticks\": \"\", \"title\": {\"standoff\": 15}, \"zerolinecolor\": \"white\", \"zerolinewidth\": 2}, \"yaxis\": {\"automargin\": true, \"gridcolor\": \"white\", \"linecolor\": \"white\", \"ticks\": \"\", \"title\": {\"standoff\": 15}, \"zerolinecolor\": \"white\", \"zerolinewidth\": 2}}}, \"title\": {\"text\": \"Vis\\u00e3o geral dos dados\"}, \"xaxis\": {\"anchor\": \"y\", \"domain\": [0.0, 1.0], \"title\": {\"text\": \"0\"}}, \"yaxis\": {\"anchor\": \"x\", \"domain\": [0.0, 1.0], \"title\": {\"text\": \"count\"}}},\n",
              "                        {\"responsive\": true}\n",
              "                    ).then(function(){\n",
              "                            \n",
              "var gd = document.getElementById('65ad55f2-5e61-4e14-9f9b-f45d450903c6');\n",
              "var x = new MutationObserver(function (mutations, observer) {{\n",
              "        var display = window.getComputedStyle(gd).display;\n",
              "        if (!display || display === 'none') {{\n",
              "            console.log([gd, 'removed!']);\n",
              "            Plotly.purge(gd);\n",
              "            observer.disconnect();\n",
              "        }}\n",
              "}});\n",
              "\n",
              "// Listen for the removal of the full notebook cells\n",
              "var notebookContainer = gd.closest('#notebook-container');\n",
              "if (notebookContainer) {{\n",
              "    x.observe(notebookContainer, {childList: true});\n",
              "}}\n",
              "\n",
              "// Listen for the clearing of the current output cell\n",
              "var outputEl = gd.closest('.output');\n",
              "if (outputEl) {{\n",
              "    x.observe(outputEl, {childList: true});\n",
              "}}\n",
              "\n",
              "                        })\n",
              "                };\n",
              "                \n",
              "            </script>\n",
              "        </div>\n",
              "</body>\n",
              "</html>"
            ]
          },
          "metadata": {}
        }
      ]
    },
    {
      "cell_type": "code",
      "metadata": {
        "colab": {
          "base_uri": "https://localhost:8080/",
          "height": 542
        },
        "id": "_oWCvYKT91er",
        "outputId": "eb8f708e-f0ed-4636-bb42-3dafd4b4dc90"
      },
      "source": [
        "df = pd.DataFrame(filtered)\n",
        "\n",
        "fig = px.histogram(df, x=0, title='Visão da barra de filtrados')\n",
        "fig.show()"
      ],
      "execution_count": 105,
      "outputs": [
        {
          "output_type": "display_data",
          "data": {
            "text/html": [
              "<html>\n",
              "<head><meta charset=\"utf-8\" /></head>\n",
              "<body>\n",
              "    <div>\n",
              "            <script src=\"https://cdnjs.cloudflare.com/ajax/libs/mathjax/2.7.5/MathJax.js?config=TeX-AMS-MML_SVG\"></script><script type=\"text/javascript\">if (window.MathJax) {MathJax.Hub.Config({SVG: {font: \"STIX-Web\"}});}</script>\n",
              "                <script type=\"text/javascript\">window.PlotlyConfig = {MathJaxConfig: 'local'};</script>\n",
              "        <script src=\"https://cdn.plot.ly/plotly-latest.min.js\"></script>    \n",
              "            <div id=\"eb3c5ca3-e73c-4bb7-b83f-5dc17de65e5b\" class=\"plotly-graph-div\" style=\"height:525px; width:100%;\"></div>\n",
              "            <script type=\"text/javascript\">\n",
              "                \n",
              "                    window.PLOTLYENV=window.PLOTLYENV || {};\n",
              "                    \n",
              "                if (document.getElementById(\"eb3c5ca3-e73c-4bb7-b83f-5dc17de65e5b\")) {\n",
              "                    Plotly.newPlot(\n",
              "                        'eb3c5ca3-e73c-4bb7-b83f-5dc17de65e5b',\n",
              "                        [{\"alignmentgroup\": \"True\", \"bingroup\": \"x\", \"hoverlabel\": {\"namelength\": 0}, \"hovertemplate\": \"0=%{x}<br>count=%{y}\", \"legendgroup\": \"\", \"marker\": {\"color\": \"#636efa\"}, \"name\": \"\", \"offsetgroup\": \"\", \"orientation\": \"v\", \"showlegend\": false, \"type\": \"histogram\", \"x\": [\"RUNNING\", \"RUNNING\", \"RUNNING\", \"RUNNING\", \"RUNNING\", \"RUNNING\", \"RUNNING\", \"RUNNING\", \"OPEN_WATER_SWIMMING\", \"STRENGTH_TRAINING\", \"RUNNING\", \"OTHER_OUTDOOR\", \"WALKING\", \"WALKING\", \"WALKING\", \"CYCLING\", \"CYCLING\", \"CYCLING\", \"CYCLING\", \"CYCLING\", \"CYCLING\", \"CYCLING\", \"RUNNING\", \"CYCLING\", \"CYCLING\", \"CYCLING\", \"STRENGTH_TRAINING\", \"CYCLING\", \"STRENGTH_TRAINING\", \"CYCLING\", \"RUNNING\", \"CYCLING\", \"CYCLING\", \"CYCLING\", \"RUNNING\", \"CYCLING\"], \"xaxis\": \"x\", \"yaxis\": \"y\"}],\n",
              "                        {\"barmode\": \"relative\", \"legend\": {\"tracegroupgap\": 0}, \"template\": {\"data\": {\"bar\": [{\"error_x\": {\"color\": \"#2a3f5f\"}, \"error_y\": {\"color\": \"#2a3f5f\"}, \"marker\": {\"line\": {\"color\": \"#E5ECF6\", \"width\": 0.5}}, \"type\": \"bar\"}], \"barpolar\": [{\"marker\": {\"line\": {\"color\": \"#E5ECF6\", \"width\": 0.5}}, \"type\": \"barpolar\"}], \"carpet\": [{\"aaxis\": {\"endlinecolor\": \"#2a3f5f\", \"gridcolor\": \"white\", \"linecolor\": \"white\", \"minorgridcolor\": \"white\", \"startlinecolor\": \"#2a3f5f\"}, \"baxis\": {\"endlinecolor\": \"#2a3f5f\", \"gridcolor\": \"white\", \"linecolor\": \"white\", \"minorgridcolor\": \"white\", \"startlinecolor\": \"#2a3f5f\"}, \"type\": \"carpet\"}], \"choropleth\": [{\"colorbar\": {\"outlinewidth\": 0, \"ticks\": \"\"}, \"type\": \"choropleth\"}], \"contour\": [{\"colorbar\": {\"outlinewidth\": 0, \"ticks\": \"\"}, \"colorscale\": [[0.0, \"#0d0887\"], [0.1111111111111111, \"#46039f\"], [0.2222222222222222, \"#7201a8\"], [0.3333333333333333, \"#9c179e\"], [0.4444444444444444, \"#bd3786\"], [0.5555555555555556, \"#d8576b\"], [0.6666666666666666, \"#ed7953\"], [0.7777777777777778, \"#fb9f3a\"], [0.8888888888888888, \"#fdca26\"], [1.0, \"#f0f921\"]], \"type\": \"contour\"}], \"contourcarpet\": [{\"colorbar\": {\"outlinewidth\": 0, \"ticks\": \"\"}, \"type\": \"contourcarpet\"}], \"heatmap\": [{\"colorbar\": {\"outlinewidth\": 0, \"ticks\": \"\"}, \"colorscale\": [[0.0, \"#0d0887\"], [0.1111111111111111, \"#46039f\"], [0.2222222222222222, \"#7201a8\"], [0.3333333333333333, \"#9c179e\"], [0.4444444444444444, \"#bd3786\"], [0.5555555555555556, \"#d8576b\"], [0.6666666666666666, \"#ed7953\"], [0.7777777777777778, \"#fb9f3a\"], [0.8888888888888888, \"#fdca26\"], [1.0, \"#f0f921\"]], \"type\": \"heatmap\"}], \"heatmapgl\": [{\"colorbar\": {\"outlinewidth\": 0, \"ticks\": \"\"}, \"colorscale\": [[0.0, \"#0d0887\"], [0.1111111111111111, \"#46039f\"], [0.2222222222222222, \"#7201a8\"], [0.3333333333333333, \"#9c179e\"], [0.4444444444444444, \"#bd3786\"], [0.5555555555555556, \"#d8576b\"], [0.6666666666666666, \"#ed7953\"], [0.7777777777777778, \"#fb9f3a\"], [0.8888888888888888, \"#fdca26\"], [1.0, \"#f0f921\"]], \"type\": \"heatmapgl\"}], \"histogram\": [{\"marker\": {\"colorbar\": {\"outlinewidth\": 0, \"ticks\": \"\"}}, \"type\": \"histogram\"}], \"histogram2d\": [{\"colorbar\": {\"outlinewidth\": 0, \"ticks\": \"\"}, \"colorscale\": [[0.0, \"#0d0887\"], [0.1111111111111111, \"#46039f\"], [0.2222222222222222, \"#7201a8\"], [0.3333333333333333, \"#9c179e\"], [0.4444444444444444, \"#bd3786\"], [0.5555555555555556, \"#d8576b\"], [0.6666666666666666, \"#ed7953\"], [0.7777777777777778, \"#fb9f3a\"], [0.8888888888888888, \"#fdca26\"], [1.0, \"#f0f921\"]], \"type\": \"histogram2d\"}], \"histogram2dcontour\": [{\"colorbar\": {\"outlinewidth\": 0, \"ticks\": \"\"}, \"colorscale\": [[0.0, \"#0d0887\"], [0.1111111111111111, \"#46039f\"], [0.2222222222222222, \"#7201a8\"], [0.3333333333333333, \"#9c179e\"], [0.4444444444444444, \"#bd3786\"], [0.5555555555555556, \"#d8576b\"], [0.6666666666666666, \"#ed7953\"], [0.7777777777777778, \"#fb9f3a\"], [0.8888888888888888, \"#fdca26\"], [1.0, \"#f0f921\"]], \"type\": \"histogram2dcontour\"}], \"mesh3d\": [{\"colorbar\": {\"outlinewidth\": 0, \"ticks\": \"\"}, \"type\": \"mesh3d\"}], \"parcoords\": [{\"line\": {\"colorbar\": {\"outlinewidth\": 0, \"ticks\": \"\"}}, \"type\": \"parcoords\"}], \"pie\": [{\"automargin\": true, \"type\": \"pie\"}], \"scatter\": [{\"marker\": {\"colorbar\": {\"outlinewidth\": 0, \"ticks\": \"\"}}, \"type\": \"scatter\"}], \"scatter3d\": [{\"line\": {\"colorbar\": {\"outlinewidth\": 0, \"ticks\": \"\"}}, \"marker\": {\"colorbar\": {\"outlinewidth\": 0, \"ticks\": \"\"}}, \"type\": \"scatter3d\"}], \"scattercarpet\": [{\"marker\": {\"colorbar\": {\"outlinewidth\": 0, \"ticks\": \"\"}}, \"type\": \"scattercarpet\"}], \"scattergeo\": [{\"marker\": {\"colorbar\": {\"outlinewidth\": 0, \"ticks\": \"\"}}, \"type\": \"scattergeo\"}], \"scattergl\": [{\"marker\": {\"colorbar\": {\"outlinewidth\": 0, \"ticks\": \"\"}}, \"type\": \"scattergl\"}], \"scattermapbox\": [{\"marker\": {\"colorbar\": {\"outlinewidth\": 0, \"ticks\": \"\"}}, \"type\": \"scattermapbox\"}], \"scatterpolar\": [{\"marker\": {\"colorbar\": {\"outlinewidth\": 0, \"ticks\": \"\"}}, \"type\": \"scatterpolar\"}], \"scatterpolargl\": [{\"marker\": {\"colorbar\": {\"outlinewidth\": 0, \"ticks\": \"\"}}, \"type\": \"scatterpolargl\"}], \"scatterternary\": [{\"marker\": {\"colorbar\": {\"outlinewidth\": 0, \"ticks\": \"\"}}, \"type\": \"scatterternary\"}], \"surface\": [{\"colorbar\": {\"outlinewidth\": 0, \"ticks\": \"\"}, \"colorscale\": [[0.0, \"#0d0887\"], [0.1111111111111111, \"#46039f\"], [0.2222222222222222, \"#7201a8\"], [0.3333333333333333, \"#9c179e\"], [0.4444444444444444, \"#bd3786\"], [0.5555555555555556, \"#d8576b\"], [0.6666666666666666, \"#ed7953\"], [0.7777777777777778, \"#fb9f3a\"], [0.8888888888888888, \"#fdca26\"], [1.0, \"#f0f921\"]], \"type\": \"surface\"}], \"table\": [{\"cells\": {\"fill\": {\"color\": \"#EBF0F8\"}, \"line\": {\"color\": \"white\"}}, \"header\": {\"fill\": {\"color\": \"#C8D4E3\"}, \"line\": {\"color\": \"white\"}}, \"type\": \"table\"}]}, \"layout\": {\"annotationdefaults\": {\"arrowcolor\": \"#2a3f5f\", \"arrowhead\": 0, \"arrowwidth\": 1}, \"coloraxis\": {\"colorbar\": {\"outlinewidth\": 0, \"ticks\": \"\"}}, \"colorscale\": {\"diverging\": [[0, \"#8e0152\"], [0.1, \"#c51b7d\"], [0.2, \"#de77ae\"], [0.3, \"#f1b6da\"], [0.4, \"#fde0ef\"], [0.5, \"#f7f7f7\"], [0.6, \"#e6f5d0\"], [0.7, \"#b8e186\"], [0.8, \"#7fbc41\"], [0.9, \"#4d9221\"], [1, \"#276419\"]], \"sequential\": [[0.0, \"#0d0887\"], [0.1111111111111111, \"#46039f\"], [0.2222222222222222, \"#7201a8\"], [0.3333333333333333, \"#9c179e\"], [0.4444444444444444, \"#bd3786\"], [0.5555555555555556, \"#d8576b\"], [0.6666666666666666, \"#ed7953\"], [0.7777777777777778, \"#fb9f3a\"], [0.8888888888888888, \"#fdca26\"], [1.0, \"#f0f921\"]], \"sequentialminus\": [[0.0, \"#0d0887\"], [0.1111111111111111, \"#46039f\"], [0.2222222222222222, \"#7201a8\"], [0.3333333333333333, \"#9c179e\"], [0.4444444444444444, \"#bd3786\"], [0.5555555555555556, \"#d8576b\"], [0.6666666666666666, \"#ed7953\"], [0.7777777777777778, \"#fb9f3a\"], [0.8888888888888888, \"#fdca26\"], [1.0, \"#f0f921\"]]}, \"colorway\": [\"#636efa\", \"#EF553B\", \"#00cc96\", \"#ab63fa\", \"#FFA15A\", \"#19d3f3\", \"#FF6692\", \"#B6E880\", \"#FF97FF\", \"#FECB52\"], \"font\": {\"color\": \"#2a3f5f\"}, \"geo\": {\"bgcolor\": \"white\", \"lakecolor\": \"white\", \"landcolor\": \"#E5ECF6\", \"showlakes\": true, \"showland\": true, \"subunitcolor\": \"white\"}, \"hoverlabel\": {\"align\": \"left\"}, \"hovermode\": \"closest\", \"mapbox\": {\"style\": \"light\"}, \"paper_bgcolor\": \"white\", \"plot_bgcolor\": \"#E5ECF6\", \"polar\": {\"angularaxis\": {\"gridcolor\": \"white\", \"linecolor\": \"white\", \"ticks\": \"\"}, \"bgcolor\": \"#E5ECF6\", \"radialaxis\": {\"gridcolor\": \"white\", \"linecolor\": \"white\", \"ticks\": \"\"}}, \"scene\": {\"xaxis\": {\"backgroundcolor\": \"#E5ECF6\", \"gridcolor\": \"white\", \"gridwidth\": 2, \"linecolor\": \"white\", \"showbackground\": true, \"ticks\": \"\", \"zerolinecolor\": \"white\"}, \"yaxis\": {\"backgroundcolor\": \"#E5ECF6\", \"gridcolor\": \"white\", \"gridwidth\": 2, \"linecolor\": \"white\", \"showbackground\": true, \"ticks\": \"\", \"zerolinecolor\": \"white\"}, \"zaxis\": {\"backgroundcolor\": \"#E5ECF6\", \"gridcolor\": \"white\", \"gridwidth\": 2, \"linecolor\": \"white\", \"showbackground\": true, \"ticks\": \"\", \"zerolinecolor\": \"white\"}}, \"shapedefaults\": {\"line\": {\"color\": \"#2a3f5f\"}}, \"ternary\": {\"aaxis\": {\"gridcolor\": \"white\", \"linecolor\": \"white\", \"ticks\": \"\"}, \"baxis\": {\"gridcolor\": \"white\", \"linecolor\": \"white\", \"ticks\": \"\"}, \"bgcolor\": \"#E5ECF6\", \"caxis\": {\"gridcolor\": \"white\", \"linecolor\": \"white\", \"ticks\": \"\"}}, \"title\": {\"x\": 0.05}, \"xaxis\": {\"automargin\": true, \"gridcolor\": \"white\", \"linecolor\": \"white\", \"ticks\": \"\", \"title\": {\"standoff\": 15}, \"zerolinecolor\": \"white\", \"zerolinewidth\": 2}, \"yaxis\": {\"automargin\": true, \"gridcolor\": \"white\", \"linecolor\": \"white\", \"ticks\": \"\", \"title\": {\"standoff\": 15}, \"zerolinecolor\": \"white\", \"zerolinewidth\": 2}}}, \"title\": {\"text\": \"Vis\\u00e3o da barra de filtrados\"}, \"xaxis\": {\"anchor\": \"y\", \"domain\": [0.0, 1.0], \"title\": {\"text\": \"0\"}}, \"yaxis\": {\"anchor\": \"x\", \"domain\": [0.0, 1.0], \"title\": {\"text\": \"count\"}}},\n",
              "                        {\"responsive\": true}\n",
              "                    ).then(function(){\n",
              "                            \n",
              "var gd = document.getElementById('eb3c5ca3-e73c-4bb7-b83f-5dc17de65e5b');\n",
              "var x = new MutationObserver(function (mutations, observer) {{\n",
              "        var display = window.getComputedStyle(gd).display;\n",
              "        if (!display || display === 'none') {{\n",
              "            console.log([gd, 'removed!']);\n",
              "            Plotly.purge(gd);\n",
              "            observer.disconnect();\n",
              "        }}\n",
              "}});\n",
              "\n",
              "// Listen for the removal of the full notebook cells\n",
              "var notebookContainer = gd.closest('#notebook-container');\n",
              "if (notebookContainer) {{\n",
              "    x.observe(notebookContainer, {childList: true});\n",
              "}}\n",
              "\n",
              "// Listen for the clearing of the current output cell\n",
              "var outputEl = gd.closest('.output');\n",
              "if (outputEl) {{\n",
              "    x.observe(outputEl, {childList: true});\n",
              "}}\n",
              "\n",
              "                        })\n",
              "                };\n",
              "                \n",
              "            </script>\n",
              "        </div>\n",
              "</body>\n",
              "</html>"
            ]
          },
          "metadata": {}
        }
      ]
    },
    {
      "cell_type": "markdown",
      "metadata": {
        "id": "jKZPu0zgAy7n"
      },
      "source": [
        "## Tentando prever o tipo de esporte com base em informações climáticas"
      ]
    },
    {
      "cell_type": "code",
      "metadata": {
        "colab": {
          "base_uri": "https://localhost:8080/"
        },
        "id": "pGm2ea-lBiR-",
        "outputId": "da3b382e-88f8-47a6-ac38-3bac5c02139e"
      },
      "source": [
        "filesList = !ls polar-sample-database/dataset/\n",
        "\n",
        "print(len(filesList))\n",
        "\n",
        "records = []\n",
        "\n",
        "for f in filesList:\n",
        "  dataExercises = json.loads(readFile('polar-sample-database/dataset/'+f))\n",
        "  for ex in dataExercises['exercises']:\n",
        "    weatherFiles = !ls polar-sample-database/weather\\ dataset | grep {ex['startTime'][:ex['startTime'].index('T')]} | grep .json\n",
        "    if len(weatherFiles) > 0:\n",
        "      dataWeather = json.loads(readFile('polar-sample-database/weather dataset/'+weatherFiles[0]))\n",
        "      values = list(dataWeather['locations'].values())[0]['values']\n",
        "      records.append((ex['sport'], ex['startTime'], ex['stopTime'], np.nanmean(collect(values, 'temp', ex['startTime'], ex['stopTime'])), np.mean(collect(values, 'wspd', ex['startTime'], ex['stopTime'])), np.mean(collect(values, 'humidity', ex['startTime'], ex['stopTime'])), np.mean(collect(values, 'cloudcover', ex['startTime'], ex['stopTime']))))\n",
        "\n",
        "\n",
        "print(records)\n",
        "\n",
        "print(len(records))"
      ],
      "execution_count": 106,
      "outputs": [
        {
          "output_type": "stream",
          "name": "stdout",
          "text": [
            "152\n",
            "[('RUNNING', '2016-01-01T18:52:47.797', '2016-01-01T19:26:47.565', 31.16666666666667, 12.338888888888889, 65.40444444444444, 57.02222222222221), ('RUNNING', '2016-01-09T16:58:39.000', '2016-01-09T17:47:59.250', 22.200000000000006, 11.86, 82.36449999999999, 91.5), ('RUNNING', '2016-01-31T09:22:51.000', '2016-01-31T10:32:48.875', 22.868181818181824, 12.509090909090908, 63.876363636363635, 34.09090909090909), ('RUNNING', '2016-02-14T15:55:42.000', '2016-02-14T16:53:43.500', 24.43333333333334, 11.152380952380952, 72.8847619047619, 75.71428571428571), ('RUNNING', '2016-02-21T15:33:10.000', '2016-02-21T16:46:49.375', 23.62380952380953, 11.223809523809525, 70.2147619047619, 48.095238095238095), ('RUNNING', '2016-04-30T10:30:38.000', '2016-04-30T11:05:03.875', 21.10000000000001, 7.617391304347826, 80.79695652173913, 32.608695652173914), ('RUNNING', '2016-05-08T08:05:49.000', '2016-05-08T09:24:22.375', 21.909523809523815, 9.380952380952381, 57.188095238095244, 7.142857142857143), ('RUNNING', '2016-06-25T17:55:28.000', '2016-06-25T18:28:05.750', 20.415789473684214, 18.331578947368417, 51.00315789473684, 12.631578947368421), ('RUNNING', '2016-07-18T18:01:52.000', '2016-07-18T18:42:03.500', 21.616666666666667, 5.9444444444444455, 43.03166666666666, 0.0), ('OPEN_WATER_SWIMMING', '2016-07-25T12:24:13.000', '2016-07-25T12:56:38.875', 20.383333333333336, 15.174999999999999, 53.13833333333333, 14.829166666666666), ('STRENGTH_TRAINING', '2016-08-17T11:58:34.000', '2016-08-17T12:31:46.250', 22.605882352941176, 4.96470588235294, 55.41, 14.905882352941175), ('RUNNING', '2016-08-17T19:00:34.000', '2016-08-17T19:48:39.789', 22.605882352941176, 4.96470588235294, 55.41, 14.905882352941175), ('OTHER_OUTDOOR', '2016-08-30T17:24:20.000', '2016-08-30T18:07:21.625', 29.400000000000002, 3.6, 78.37, 70.0), ('WALKING', '2016-08-30T13:56:40.000', '2016-08-30T14:42:31.394', 29.400000000000002, 3.6, 78.37, 70.0), ('WALKING', '2016-09-01T16:51:26.000', '2016-09-01T18:56:36.192', 29.950000000000003, 3.6, 75.24000000000001, 30.0), ('WALKING', '2016-09-02T16:34:50.000', '2016-09-02T16:59:30.125', 30.200000000000003, 3.6, 76.24, 55.0), ('CYCLING', '2016-09-07T16:09:45.000', '2016-09-07T17:48:03.227', 19.645000000000003, 6.5550000000000015, 30.859, 9.0), ('CYCLING', '2016-09-10T15:48:16.000', '2016-09-10T16:31:02.504', 23.461904761904766, 15.504761904761903, 35.446666666666665, 10.447619047619046), ('CYCLING', '2016-09-12T09:16:06.000', '2016-09-12T10:03:16.000', 23.359090909090913, 12.036363636363637, 32.05727272727274, 0.0), ('CYCLING', '2016-09-17T09:56:02.000', '2016-09-17T11:05:40.458', 26.55, 12.472727272727274, 35.60136363636363, 14.727272727272727), ('CYCLING', '2016-09-25T14:37:02.000', '2016-09-25T16:25:09.846', 22.99545454545455, 9.463636363636361, 71.205, 32.795454545454554), ('CYCLING', '2016-10-02T16:18:38.000', '2016-10-02T17:17:45.517', 23.675000000000004, 10.975, 53.64399999999999, 36.17), ('CYCLING', '2016-10-08T16:21:09.000', '2016-10-08T18:29:03.962', 22.39, 5.505000000000001, 40.745999999999995, 5.95), ('RUNNING', '2016-10-09T09:52:19.000', '2016-10-09T10:24:13.816', 22.359090909090913, 7.186363636363635, 48.23772727272728, 15.386363636363637), ('CYCLING', '2016-10-12T17:11:08.000', '2016-10-12T18:32:52.748', 22.85263157894737, 12.442105263157895, 44.86052631578947, 24.647368421052633), ('CYCLING', '2016-10-15T15:11:07.000', '2016-10-15T16:35:15.426', 25.723809523809525, 11.3, 38.824285714285715, 17.314285714285717), ('CYCLING', '2016-10-22T09:51:04.000', '2016-10-22T11:49:28.093', 21.522727272727273, 6.790909090909091, 71.72136363636365, 25.59090909090909), ('CYCLING', '2016-11-02T15:13:51.000', '2016-11-02T18:22:34.840', 22.85238095238096, 11.247619047619047, 67.74333333333334, 21.823809523809523), ('STRENGTH_TRAINING', '2016-11-12T17:32:21.000', '2016-11-12T18:19:50.375', 20.70416666666667, 7.2, 83.22875, 42.94166666666666), ('CYCLING', '2016-11-12T12:19:16.000', '2016-11-12T12:41:33.800', 20.70416666666667, 7.2, 83.22875, 42.94166666666666), ('CYCLING', '2016-11-13T08:20:04.000', '2016-11-13T10:13:01.222', 19.895238095238103, 12.22857142857143, 91.45666666666668, 56.08571428571428), ('STRENGTH_TRAINING', '2016-11-15T11:35:22.000', '2016-11-15T12:15:31.500', 22.24285714285714, 11.019047619047619, 77.53809523809524, 12.680952380952382), ('CYCLING', '2016-11-15T15:24:37.000', '2016-11-15T16:50:31.722', 22.24285714285714, 11.019047619047619, 77.53809523809524, 12.680952380952382), ('RUNNING', '2016-11-20T15:24:55.000', '2016-11-20T16:03:29.576', 21.20476190476191, 8.761904761904763, 84.5104761904762, 35.66190476190476), ('CYCLING', '2016-11-26T11:25:33.000', '2016-11-26T11:40:18.001', 23.870833333333337, 7.991666666666667, 69.60583333333334, 6.908333333333334), ('CYCLING', '2016-11-26T12:14:00.000', '2016-11-26T12:57:15.107', 23.870833333333337, 7.991666666666667, 69.60583333333334, 6.908333333333334), ('CYCLING', '2016-11-30T18:23:44.000', '2016-11-30T19:22:50.171', 24.81666666666667, 10.6, 67.42500000000001, 24.02777777777778), ('RUNNING', '2016-12-11T09:00:54.000', '2016-12-11T09:31:27.875', 22.513636363636365, 7.381818181818182, 78.72272727272728, 25.495454545454546), ('CYCLING', '2016-12-13T16:48:28.000', '2016-12-13T16:55:55.566', 22.425, 9.15, 80.50050000000002, 29.555), ('CYCLING', '2016-12-13T17:10:32.000', '2016-12-13T17:27:28.426', 22.425, 9.15, 80.50050000000002, 29.555), ('CYCLING', '2016-12-25T16:59:03.000', '2016-12-25T18:18:38.693', 26.175000000000004, 7.83, 50.074, 14.514999999999997)]\n",
            "41\n"
          ]
        }
      ]
    },
    {
      "cell_type": "code",
      "metadata": {
        "colab": {
          "base_uri": "https://localhost:8080/"
        },
        "id": "cF-ms6cwcf-p",
        "outputId": "44445fb2-cfab-4036-98e3-3b3e98a1ccd3"
      },
      "source": [
        "#Creating the X and Y variables\n",
        "X = []\n",
        "y = []\n",
        "for record in records:\n",
        "  y.append(record[0])\n",
        "  X.append(list(record[3:]))\n",
        "\n",
        "#Splitting the recors into training and test datasets\n",
        "X_train, X_test, y_train, y_test = train_test_split(X, y, test_size=0.2, random_state=1)\n",
        "\n",
        "#Regression with scktlearn\n",
        "clf = linear_model.LogisticRegression(max_iter=10000).fit(X_train, y_train)\n",
        "clf.score(X_test, y_test)\n"
      ],
      "execution_count": 107,
      "outputs": [
        {
          "output_type": "execute_result",
          "data": {
            "text/plain": [
              "0.6666666666666666"
            ]
          },
          "metadata": {},
          "execution_count": 107
        }
      ]
    },
    {
      "cell_type": "markdown",
      "metadata": {
        "id": "nti6t2iGSnFn"
      },
      "source": [
        "##Tentando prever o gasto calórico com base em (duração, tipo de esporte, informções do clima)\n"
      ]
    },
    {
      "cell_type": "code",
      "metadata": {
        "colab": {
          "base_uri": "https://localhost:8080/"
        },
        "id": "FUvLyMzHSlZd",
        "outputId": "fe7ddbd5-5c83-4862-95aa-588f2f5b7058"
      },
      "source": [
        "filesList = !ls polar-sample-database/dataset/\n",
        "\n",
        "print(len(filesList))\n",
        "\n",
        "records = []\n",
        "\n",
        "token = {}\n",
        "\n",
        "for f in filesList:\n",
        "  dataExercises = json.loads(readFile('polar-sample-database/dataset/'+f))\n",
        "  if('kiloCalories' in dataExercises):\n",
        "    for ex in dataExercises['exercises']:\n",
        "      weatherFiles = !ls polar-sample-database/weather\\ dataset | grep {ex['startTime'][:ex['startTime'].index('T')]} | grep .json\n",
        "      if len(weatherFiles) > 0:\n",
        "        dataWeather = json.loads(readFile('polar-sample-database/weather dataset/'+weatherFiles[0]))\n",
        "        values = list(dataWeather['locations'].values())[0]['values']\n",
        "        token[ex['sport']] = token[ex['sport']] if ex['sport'] in token else len(token)\n",
        "        records.append((dataExercises['kiloCalories'], token[ex['sport']], (datetime.strptime(ex['stopTime'], '%Y-%m-%dT%H:%M:%S.%f') - datetime.strptime(ex['startTime'], '%Y-%m-%dT%H:%M:%S.%f')).total_seconds() , np.nanmean(collect(values, 'temp', ex['startTime'], ex['stopTime'])), np.mean(collect(values, 'wspd', ex['startTime'], ex['stopTime'])), np.mean(collect(values, 'humidity', ex['startTime'], ex['stopTime'])), np.mean(collect(values, 'cloudcover', ex['startTime'], ex['stopTime']))))\n",
        "\n",
        "\n",
        "print(records)\n",
        "\n",
        "print(len(records))\n",
        "\n",
        "print(token)"
      ],
      "execution_count": 108,
      "outputs": [
        {
          "output_type": "stream",
          "name": "stdout",
          "text": [
            "152\n",
            "[(445, 0, 2960.25, 22.200000000000006, 11.86, 82.36449999999999, 91.5), (607, 0, 4197.875, 22.868181818181824, 12.509090909090908, 63.876363636363635, 34.09090909090909), (763, 0, 3481.5, 24.43333333333334, 11.152380952380952, 72.8847619047619, 75.71428571428571), (834, 0, 4419.375, 23.62380952380953, 11.223809523809525, 70.2147619047619, 48.095238095238095), (516, 0, 2065.875, 21.10000000000001, 7.617391304347826, 80.79695652173913, 32.608695652173914), (1066, 0, 4713.375, 21.909523809523815, 9.380952380952381, 57.188095238095244, 7.142857142857143), (394, 0, 1957.75, 20.415789473684214, 18.331578947368417, 51.00315789473684, 12.631578947368421), (419, 0, 2411.5, 21.616666666666667, 5.9444444444444455, 43.03166666666666, 0.0), (248, 1, 1945.875, 20.383333333333336, 15.174999999999999, 53.13833333333333, 14.829166666666666), (84, 2, 1992.25, 22.605882352941176, 4.96470588235294, 55.41, 14.905882352941175), (465, 0, 2885.789, 22.605882352941176, 4.96470588235294, 55.41, 14.905882352941175), (208, 3, 2581.625, 29.400000000000002, 3.6, 78.37, 70.0), (191, 4, 2751.394, 29.400000000000002, 3.6, 78.37, 70.0), (607, 4, 7510.192, 29.950000000000003, 3.6, 75.24000000000001, 30.0), (77, 4, 1480.125, 30.200000000000003, 3.6, 76.24, 55.0), (1120, 5, 5898.227, 19.645000000000003, 6.5550000000000015, 30.859, 9.0), (211, 5, 2566.504, 23.461904761904766, 15.504761904761903, 35.446666666666665, 10.447619047619046), (493, 5, 2830.0, 23.359090909090913, 12.036363636363637, 32.05727272727274, 0.0), (716, 5, 4178.458, 26.55, 12.472727272727274, 35.60136363636363, 14.727272727272727), (1260, 5, 6487.846, 22.99545454545455, 9.463636363636361, 71.205, 32.795454545454554), (689, 5, 3547.517, 23.675000000000004, 10.975, 53.64399999999999, 36.17), (1557, 5, 7674.962, 22.39, 5.505000000000001, 40.745999999999995, 5.95), (301, 0, 1914.816, 22.359090909090913, 7.186363636363635, 48.23772727272728, 15.386363636363637), (920, 5, 4904.748, 22.85263157894737, 12.442105263157895, 44.86052631578947, 24.647368421052633), (1027, 5, 5048.426, 25.723809523809525, 11.3, 38.824285714285715, 17.314285714285717), (766, 5, 7104.093, 21.522727272727273, 6.790909090909091, 71.72136363636365, 25.59090909090909), (108, 2, 2849.375, 20.70416666666667, 7.2, 83.22875, 42.94166666666666), (566, 5, 6777.222, 19.895238095238103, 12.22857142857143, 91.45666666666668, 56.08571428571428), (89, 2, 2409.5, 22.24285714285714, 11.019047619047619, 77.53809523809524, 12.680952380952382), (384, 5, 5154.722, 22.24285714285714, 11.019047619047619, 77.53809523809524, 12.680952380952382), (223, 0, 2314.576, 21.20476190476191, 8.761904761904763, 84.5104761904762, 35.66190476190476), (70, 5, 885.001, 23.870833333333337, 7.991666666666667, 69.60583333333334, 6.908333333333334), (450, 5, 2595.107, 23.870833333333337, 7.991666666666667, 69.60583333333334, 6.908333333333334), (659, 5, 3546.171, 24.81666666666667, 10.6, 67.42500000000001, 24.02777777777778), (413, 0, 1833.875, 22.513636363636365, 7.381818181818182, 78.72272727272728, 25.495454545454546), (921, 5, 4775.693, 26.175000000000004, 7.83, 50.074, 14.514999999999997)]\n",
            "36\n",
            "{'RUNNING': 0, 'OPEN_WATER_SWIMMING': 1, 'STRENGTH_TRAINING': 2, 'OTHER_OUTDOOR': 3, 'WALKING': 4, 'CYCLING': 5}\n"
          ]
        }
      ]
    },
    {
      "cell_type": "code",
      "metadata": {
        "colab": {
          "base_uri": "https://localhost:8080/"
        },
        "id": "akd8ZJltVJVX",
        "outputId": "b9efc8c7-fefb-4a52-bfea-885705041664"
      },
      "source": [
        "#Creating the X and Y variables\n",
        "X = []\n",
        "y = []\n",
        "for record in records:\n",
        "  y.append(record[0])\n",
        "  X.append(list(record[1:]))\n",
        "\n",
        "#Splitting the recors into training and test datasets\n",
        "X_train, X_test, y_train, y_test = train_test_split(X, y, test_size=0.2, random_state=1)\n",
        "\n",
        "#Regression with scktlearn\n",
        "clf = linear_model.LinearRegression(normalize=True).fit(X_train, y_train)\n",
        "print(clf.score(X_test, y_test))\n",
        "print(clf.predict([[4, 1480.125, 30.200000000000003, 3.6, 76.24, 55.0]]))"
      ],
      "execution_count": 109,
      "outputs": [
        {
          "output_type": "stream",
          "name": "stdout",
          "text": [
            "0.7145503163556874\n",
            "[87.29107809]\n"
          ]
        }
      ]
    },
    {
      "cell_type": "markdown",
      "metadata": {
        "id": "fT8ljjrhegP4"
      },
      "source": [
        "##Testando se os atributos do clima influenciam ou não, i.e. removendo eles da entrada\n"
      ]
    },
    {
      "cell_type": "code",
      "metadata": {
        "colab": {
          "base_uri": "https://localhost:8080/"
        },
        "id": "-Mt_KIGMdzL0",
        "outputId": "ee38e013-6b63-423c-c368-680c7d05fcc2"
      },
      "source": [
        "filesList = !ls polar-sample-database/dataset/\n",
        "\n",
        "print(len(filesList))\n",
        "\n",
        "records = []\n",
        "\n",
        "token = {}\n",
        "\n",
        "for f in filesList:\n",
        "  dataExercises = json.loads(readFile('polar-sample-database/dataset/'+f))\n",
        "  if('kiloCalories' in dataExercises):\n",
        "    for ex in dataExercises['exercises']:\n",
        "      weatherFiles = !ls polar-sample-database/weather\\ dataset | grep {ex['startTime'][:ex['startTime'].index('T')]} | grep .json\n",
        "      if len(weatherFiles) > 0:\n",
        "        dataWeather = json.loads(readFile('polar-sample-database/weather dataset/'+weatherFiles[0]))\n",
        "        values = list(dataWeather['locations'].values())[0]['values']\n",
        "        token[ex['sport']] = token[ex['sport']] if ex['sport'] in token else len(token)\n",
        "        records.append((dataExercises['kiloCalories'], token[ex['sport']], (datetime.strptime(ex['stopTime'], '%Y-%m-%dT%H:%M:%S.%f') - datetime.strptime(ex['startTime'], '%Y-%m-%dT%H:%M:%S.%f')).total_seconds()))\n",
        "\n",
        "\n",
        "print(records)\n",
        "\n",
        "print(len(records))\n",
        "\n",
        "print(token)"
      ],
      "execution_count": 110,
      "outputs": [
        {
          "output_type": "stream",
          "name": "stdout",
          "text": [
            "152\n",
            "[(445, 0, 2960.25), (607, 0, 4197.875), (763, 0, 3481.5), (834, 0, 4419.375), (516, 0, 2065.875), (1066, 0, 4713.375), (394, 0, 1957.75), (419, 0, 2411.5), (248, 1, 1945.875), (84, 2, 1992.25), (465, 0, 2885.789), (208, 3, 2581.625), (191, 4, 2751.394), (607, 4, 7510.192), (77, 4, 1480.125), (1120, 5, 5898.227), (211, 5, 2566.504), (493, 5, 2830.0), (716, 5, 4178.458), (1260, 5, 6487.846), (689, 5, 3547.517), (1557, 5, 7674.962), (301, 0, 1914.816), (920, 5, 4904.748), (1027, 5, 5048.426), (766, 5, 7104.093), (108, 2, 2849.375), (566, 5, 6777.222), (89, 2, 2409.5), (384, 5, 5154.722), (223, 0, 2314.576), (70, 5, 885.001), (450, 5, 2595.107), (659, 5, 3546.171), (413, 0, 1833.875), (921, 5, 4775.693)]\n",
            "36\n",
            "{'RUNNING': 0, 'OPEN_WATER_SWIMMING': 1, 'STRENGTH_TRAINING': 2, 'OTHER_OUTDOOR': 3, 'WALKING': 4, 'CYCLING': 5}\n"
          ]
        }
      ]
    },
    {
      "cell_type": "code",
      "metadata": {
        "colab": {
          "base_uri": "https://localhost:8080/"
        },
        "id": "uJqmlT5Qd9WS",
        "outputId": "d0729fe9-6186-41c6-a4fd-ab3bcc6b887b"
      },
      "source": [
        "#Creating the X and Y variables\n",
        "X = []\n",
        "y = []\n",
        "for record in records:\n",
        "  y.append(record[0])\n",
        "  X.append(list(record[1:]))\n",
        "\n",
        "#Splitting the recors into training and test datasets\n",
        "X_train, X_test, y_train, y_test = train_test_split(X, y, test_size=0.2, random_state=1)\n",
        "\n",
        "#Regression with scktlearn\n",
        "clf = linear_model.LinearRegression(normalize=True).fit(X_train, y_train)\n",
        "print(clf.score(X_test, y_test))\n",
        "print(clf.predict([[0, 2960.25]]))"
      ],
      "execution_count": 111,
      "outputs": [
        {
          "output_type": "stream",
          "name": "stdout",
          "text": [
            "0.5950733127996843\n",
            "[486.4604288]\n"
          ]
        }
      ]
    },
    {
      "cell_type": "markdown",
      "metadata": {
        "id": "1GkCdkw0hn0w"
      },
      "source": [
        "## Invertendo, se é possível determinar a duração pelo clima e a quantidade de calorias alvo!"
      ]
    },
    {
      "cell_type": "code",
      "metadata": {
        "colab": {
          "base_uri": "https://localhost:8080/"
        },
        "id": "GuXQO1eVh0PB",
        "outputId": "4b99eba5-1554-4146-9415-7e47f686fc03"
      },
      "source": [
        "filesList = !ls polar-sample-database/dataset/\n",
        "\n",
        "print(len(filesList))\n",
        "\n",
        "records = []\n",
        "\n",
        "token = {}\n",
        "\n",
        "for f in filesList:\n",
        "  dataExercises = json.loads(readFile('polar-sample-database/dataset/'+f))\n",
        "  if('kiloCalories' in dataExercises):\n",
        "    for ex in dataExercises['exercises']:\n",
        "      weatherFiles = !ls polar-sample-database/weather\\ dataset | grep {ex['startTime'][:ex['startTime'].index('T')]} | grep .json\n",
        "      if len(weatherFiles) > 0:\n",
        "        dataWeather = json.loads(readFile('polar-sample-database/weather dataset/'+weatherFiles[0]))\n",
        "        values = list(dataWeather['locations'].values())[0]['values']\n",
        "        token[ex['sport']] = token[ex['sport']] if ex['sport'] in token else len(token)\n",
        "        records.append(((datetime.strptime(ex['stopTime'], '%Y-%m-%dT%H:%M:%S.%f') - datetime.strptime(ex['startTime'], '%Y-%m-%dT%H:%M:%S.%f')).total_seconds(), dataExercises['kiloCalories'], token[ex['sport']], np.nanmean(collect(values, 'temp', ex['startTime'], ex['stopTime'])), np.mean(collect(values, 'wspd', ex['startTime'], ex['stopTime'])), np.mean(collect(values, 'humidity', ex['startTime'], ex['stopTime'])), np.mean(collect(values, 'cloudcover', ex['startTime'], ex['stopTime']))))\n",
        "\n",
        "\n",
        "print(records)\n",
        "\n",
        "print(len(records))\n",
        "\n",
        "print(token)"
      ],
      "execution_count": 112,
      "outputs": [
        {
          "output_type": "stream",
          "name": "stdout",
          "text": [
            "152\n",
            "[(2960.25, 445, 0, 22.200000000000006, 11.86, 82.36449999999999, 91.5), (4197.875, 607, 0, 22.868181818181824, 12.509090909090908, 63.876363636363635, 34.09090909090909), (3481.5, 763, 0, 24.43333333333334, 11.152380952380952, 72.8847619047619, 75.71428571428571), (4419.375, 834, 0, 23.62380952380953, 11.223809523809525, 70.2147619047619, 48.095238095238095), (2065.875, 516, 0, 21.10000000000001, 7.617391304347826, 80.79695652173913, 32.608695652173914), (4713.375, 1066, 0, 21.909523809523815, 9.380952380952381, 57.188095238095244, 7.142857142857143), (1957.75, 394, 0, 20.415789473684214, 18.331578947368417, 51.00315789473684, 12.631578947368421), (2411.5, 419, 0, 21.616666666666667, 5.9444444444444455, 43.03166666666666, 0.0), (1945.875, 248, 1, 20.383333333333336, 15.174999999999999, 53.13833333333333, 14.829166666666666), (1992.25, 84, 2, 22.605882352941176, 4.96470588235294, 55.41, 14.905882352941175), (2885.789, 465, 0, 22.605882352941176, 4.96470588235294, 55.41, 14.905882352941175), (2581.625, 208, 3, 29.400000000000002, 3.6, 78.37, 70.0), (2751.394, 191, 4, 29.400000000000002, 3.6, 78.37, 70.0), (7510.192, 607, 4, 29.950000000000003, 3.6, 75.24000000000001, 30.0), (1480.125, 77, 4, 30.200000000000003, 3.6, 76.24, 55.0), (5898.227, 1120, 5, 19.645000000000003, 6.5550000000000015, 30.859, 9.0), (2566.504, 211, 5, 23.461904761904766, 15.504761904761903, 35.446666666666665, 10.447619047619046), (2830.0, 493, 5, 23.359090909090913, 12.036363636363637, 32.05727272727274, 0.0), (4178.458, 716, 5, 26.55, 12.472727272727274, 35.60136363636363, 14.727272727272727), (6487.846, 1260, 5, 22.99545454545455, 9.463636363636361, 71.205, 32.795454545454554), (3547.517, 689, 5, 23.675000000000004, 10.975, 53.64399999999999, 36.17), (7674.962, 1557, 5, 22.39, 5.505000000000001, 40.745999999999995, 5.95), (1914.816, 301, 0, 22.359090909090913, 7.186363636363635, 48.23772727272728, 15.386363636363637), (4904.748, 920, 5, 22.85263157894737, 12.442105263157895, 44.86052631578947, 24.647368421052633), (5048.426, 1027, 5, 25.723809523809525, 11.3, 38.824285714285715, 17.314285714285717), (7104.093, 766, 5, 21.522727272727273, 6.790909090909091, 71.72136363636365, 25.59090909090909), (2849.375, 108, 2, 20.70416666666667, 7.2, 83.22875, 42.94166666666666), (6777.222, 566, 5, 19.895238095238103, 12.22857142857143, 91.45666666666668, 56.08571428571428), (2409.5, 89, 2, 22.24285714285714, 11.019047619047619, 77.53809523809524, 12.680952380952382), (5154.722, 384, 5, 22.24285714285714, 11.019047619047619, 77.53809523809524, 12.680952380952382), (2314.576, 223, 0, 21.20476190476191, 8.761904761904763, 84.5104761904762, 35.66190476190476), (885.001, 70, 5, 23.870833333333337, 7.991666666666667, 69.60583333333334, 6.908333333333334), (2595.107, 450, 5, 23.870833333333337, 7.991666666666667, 69.60583333333334, 6.908333333333334), (3546.171, 659, 5, 24.81666666666667, 10.6, 67.42500000000001, 24.02777777777778), (1833.875, 413, 0, 22.513636363636365, 7.381818181818182, 78.72272727272728, 25.495454545454546), (4775.693, 921, 5, 26.175000000000004, 7.83, 50.074, 14.514999999999997)]\n",
            "36\n",
            "{'RUNNING': 0, 'OPEN_WATER_SWIMMING': 1, 'STRENGTH_TRAINING': 2, 'OTHER_OUTDOOR': 3, 'WALKING': 4, 'CYCLING': 5}\n"
          ]
        }
      ]
    },
    {
      "cell_type": "code",
      "metadata": {
        "colab": {
          "base_uri": "https://localhost:8080/"
        },
        "id": "Vpd2kR-Jib3J",
        "outputId": "d6a51233-7681-49d4-a88f-963d90e21741"
      },
      "source": [
        "#Creating the X and Y variables\n",
        "X = []\n",
        "y = []\n",
        "for record in records:\n",
        "  y.append(record[0])\n",
        "  X.append(list(record[1:]))\n",
        "\n",
        "#Splitting the recors into training and test datasets\n",
        "X_train, X_test, y_train, y_test = train_test_split(X, y, test_size=0.2, random_state=1)\n",
        "\n",
        "#Regression with scktlearn\n",
        "clf = linear_model.LinearRegression(normalize=True).fit(X_train, y_train)\n",
        "print(clf.score(X_test, y_test))\n",
        "print(clf.predict([[301, 0, 21.452, 6.68, 46.407999999999994, 13.54]]))"
      ],
      "execution_count": 113,
      "outputs": [
        {
          "output_type": "stream",
          "name": "stdout",
          "text": [
            "0.8862809240780773\n",
            "[1621.84528616]\n"
          ]
        }
      ]
    },
    {
      "cell_type": "markdown",
      "metadata": {
        "id": "2_mJgWd7x101"
      },
      "source": [
        "## Testando com \"data augmentation\""
      ]
    },
    {
      "cell_type": "code",
      "metadata": {
        "colab": {
          "base_uri": "https://localhost:8080/"
        },
        "id": "aCNLE6ocxlmV",
        "outputId": "43ead8ae-9092-4680-e32c-aac2428074f7"
      },
      "source": [
        "#Creating the X and Y variables\n",
        "X = []\n",
        "y = []\n",
        "for record in records:\n",
        "  y.append(record[0])\n",
        "  X.append(list(record[1:]))\n",
        "\n",
        "X.extend(X)\n",
        "X.extend(X)\n",
        "X.extend(X)\n",
        "X.extend(X)\n",
        "y.extend(y)\n",
        "y.extend(y)\n",
        "y.extend(y)\n",
        "y.extend(y)\n",
        "\n",
        "print(len(X))\n",
        "\n",
        "#Splitting the recors into training and test datasets\n",
        "X_train, X_test, y_train, y_test = train_test_split(X, y, test_size=0.2, random_state=1)\n",
        "\n",
        "#Regression with scktlearn\n",
        "clf = linear_model.LinearRegression(normalize=True).fit(X_train, y_train)\n",
        "print(clf.score(X_test, y_test))\n",
        "print(clf.predict([[301, 0, 21.452, 6.68, 46.407999999999994, 13.54]]))"
      ],
      "execution_count": 114,
      "outputs": [
        {
          "output_type": "stream",
          "name": "stdout",
          "text": [
            "576\n",
            "0.7564886473960362\n",
            "[1662.92613282]\n"
          ]
        }
      ]
    }
  ]
}